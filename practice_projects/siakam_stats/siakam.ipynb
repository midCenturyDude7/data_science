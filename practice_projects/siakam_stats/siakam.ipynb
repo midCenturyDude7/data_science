{
 "cells": [
  {
   "cell_type": "markdown",
   "metadata": {},
   "source": [
    "<h1>Practice Notebook: Paskal Siakam's Career Stats</h1>"
   ]
  },
  {
   "cell_type": "markdown",
   "metadata": {},
   "source": [
    "Task: Import Paskal Siakam's career stats as a .csv file from Basketball-Reference.com and display as table using Python and Pandas"
   ]
  },
  {
   "cell_type": "markdown",
   "metadata": {},
   "source": [
    "Import packages"
   ]
  },
  {
   "cell_type": "code",
   "execution_count": 1,
   "metadata": {},
   "outputs": [],
   "source": [
    "import csv\n",
    "import pandas as pd\n",
    "import numpy as np"
   ]
  },
  {
   "cell_type": "markdown",
   "metadata": {},
   "source": [
    "Read the file - siakam.csv, covert to a pandas dataframe and display the dataframe"
   ]
  },
  {
   "cell_type": "code",
   "execution_count": 3,
   "metadata": {},
   "outputs": [
    {
     "data": {
      "text/html": [
       "<div>\n",
       "<style scoped>\n",
       "    .dataframe tbody tr th:only-of-type {\n",
       "        vertical-align: middle;\n",
       "    }\n",
       "\n",
       "    .dataframe tbody tr th {\n",
       "        vertical-align: top;\n",
       "    }\n",
       "\n",
       "    .dataframe thead th {\n",
       "        text-align: right;\n",
       "    }\n",
       "</style>\n",
       "<table border=\"1\" class=\"dataframe\">\n",
       "  <thead>\n",
       "    <tr style=\"text-align: right;\">\n",
       "      <th></th>\n",
       "      <th>Season</th>\n",
       "      <th>Age</th>\n",
       "      <th>Tm</th>\n",
       "      <th>Lg</th>\n",
       "      <th>Pos</th>\n",
       "      <th>G</th>\n",
       "      <th>GS</th>\n",
       "      <th>MP</th>\n",
       "      <th>FG</th>\n",
       "      <th>FGA</th>\n",
       "      <th>...</th>\n",
       "      <th>FT%</th>\n",
       "      <th>ORB</th>\n",
       "      <th>DRB</th>\n",
       "      <th>TRB</th>\n",
       "      <th>AST</th>\n",
       "      <th>STL</th>\n",
       "      <th>BLK</th>\n",
       "      <th>TOV</th>\n",
       "      <th>PF</th>\n",
       "      <th>PTS</th>\n",
       "    </tr>\n",
       "  </thead>\n",
       "  <tbody>\n",
       "    <tr>\n",
       "      <th>0</th>\n",
       "      <td>2016-17</td>\n",
       "      <td>22.0</td>\n",
       "      <td>TOR</td>\n",
       "      <td>NBA</td>\n",
       "      <td>PF</td>\n",
       "      <td>55</td>\n",
       "      <td>38</td>\n",
       "      <td>859</td>\n",
       "      <td>103</td>\n",
       "      <td>205</td>\n",
       "      <td>...</td>\n",
       "      <td>0.688</td>\n",
       "      <td>64</td>\n",
       "      <td>121</td>\n",
       "      <td>185</td>\n",
       "      <td>17</td>\n",
       "      <td>26</td>\n",
       "      <td>45</td>\n",
       "      <td>33</td>\n",
       "      <td>109</td>\n",
       "      <td>229</td>\n",
       "    </tr>\n",
       "    <tr>\n",
       "      <th>1</th>\n",
       "      <td>2017-18</td>\n",
       "      <td>23.0</td>\n",
       "      <td>TOR</td>\n",
       "      <td>NBA</td>\n",
       "      <td>PF</td>\n",
       "      <td>81</td>\n",
       "      <td>5</td>\n",
       "      <td>1679</td>\n",
       "      <td>253</td>\n",
       "      <td>498</td>\n",
       "      <td>...</td>\n",
       "      <td>0.621</td>\n",
       "      <td>79</td>\n",
       "      <td>285</td>\n",
       "      <td>364</td>\n",
       "      <td>159</td>\n",
       "      <td>62</td>\n",
       "      <td>42</td>\n",
       "      <td>67</td>\n",
       "      <td>166</td>\n",
       "      <td>589</td>\n",
       "    </tr>\n",
       "    <tr>\n",
       "      <th>2</th>\n",
       "      <td>2018-19</td>\n",
       "      <td>24.0</td>\n",
       "      <td>TOR</td>\n",
       "      <td>NBA</td>\n",
       "      <td>PF</td>\n",
       "      <td>80</td>\n",
       "      <td>79</td>\n",
       "      <td>2548</td>\n",
       "      <td>519</td>\n",
       "      <td>945</td>\n",
       "      <td>...</td>\n",
       "      <td>0.785</td>\n",
       "      <td>124</td>\n",
       "      <td>425</td>\n",
       "      <td>549</td>\n",
       "      <td>248</td>\n",
       "      <td>73</td>\n",
       "      <td>52</td>\n",
       "      <td>154</td>\n",
       "      <td>241</td>\n",
       "      <td>1354</td>\n",
       "    </tr>\n",
       "    <tr>\n",
       "      <th>3</th>\n",
       "      <td>Career</td>\n",
       "      <td>NaN</td>\n",
       "      <td>NaN</td>\n",
       "      <td>NBA</td>\n",
       "      <td>NaN</td>\n",
       "      <td>216</td>\n",
       "      <td>122</td>\n",
       "      <td>5086</td>\n",
       "      <td>875</td>\n",
       "      <td>1648</td>\n",
       "      <td>...</td>\n",
       "      <td>0.743</td>\n",
       "      <td>267</td>\n",
       "      <td>831</td>\n",
       "      <td>1098</td>\n",
       "      <td>424</td>\n",
       "      <td>161</td>\n",
       "      <td>139</td>\n",
       "      <td>254</td>\n",
       "      <td>516</td>\n",
       "      <td>2172</td>\n",
       "    </tr>\n",
       "  </tbody>\n",
       "</table>\n",
       "<p>4 rows × 30 columns</p>\n",
       "</div>"
      ],
      "text/plain": [
       "    Season   Age   Tm   Lg  Pos    G   GS    MP   FG   FGA  ...     FT%  ORB  \\\n",
       "0  2016-17  22.0  TOR  NBA   PF   55   38   859  103   205  ...   0.688   64   \n",
       "1  2017-18  23.0  TOR  NBA   PF   81    5  1679  253   498  ...   0.621   79   \n",
       "2  2018-19  24.0  TOR  NBA   PF   80   79  2548  519   945  ...   0.785  124   \n",
       "3   Career   NaN  NaN  NBA  NaN  216  122  5086  875  1648  ...   0.743  267   \n",
       "\n",
       "   DRB   TRB  AST  STL  BLK  TOV   PF   PTS  \n",
       "0  121   185   17   26   45   33  109   229  \n",
       "1  285   364  159   62   42   67  166   589  \n",
       "2  425   549  248   73   52  154  241  1354  \n",
       "3  831  1098  424  161  139  254  516  2172  \n",
       "\n",
       "[4 rows x 30 columns]"
      ]
     },
     "execution_count": 3,
     "metadata": {},
     "output_type": "execute_result"
    }
   ],
   "source": [
    "df = pd.read_csv('siakam_stats.csv')\n",
    "df_siakam = pd.DataFrame(df)\n",
    "df_siakam.head()"
   ]
  },
  {
   "cell_type": "code",
   "execution_count": null,
   "metadata": {},
   "outputs": [],
   "source": []
  }
 ],
 "metadata": {
  "kernelspec": {
   "display_name": "Python 3",
   "language": "python",
   "name": "python3"
  },
  "language_info": {
   "codemirror_mode": {
    "name": "ipython",
    "version": 3
   },
   "file_extension": ".py",
   "mimetype": "text/x-python",
   "name": "python",
   "nbconvert_exporter": "python",
   "pygments_lexer": "ipython3",
   "version": "3.7.1"
  }
 },
 "nbformat": 4,
 "nbformat_minor": 2
}
